{
 "cells": [
  {
   "cell_type": "markdown",
   "id": "f50919b7",
   "metadata": {},
   "source": [
    "# Processing the results of the experiments"
   ]
  },
  {
   "cell_type": "markdown",
   "id": "ae34b087",
   "metadata": {},
   "source": [
    "### 1. Exporting the data to csv for further statistical tests in R\n",
    "Below are defined the all the configuration combinations and the model # associated with each one of them.\n",
    "Before running this notebook, the log file associated with each configuration was manually renamed\n",
    "results_model_{model_id}.txt and placed in a Results folder."
   ]
  },
  {
   "cell_type": "code",
   "execution_count": 1,
   "id": "84481aa1",
   "metadata": {},
   "outputs": [],
   "source": [
    "model_configs = [\n",
    "    (\"CNN\", \"within\", \"full\", \"all\"), #model 1\n",
    "    (\"CNN\", \"within\", \"full\", \"left\"), # model 2\n",
    "    (\"CNN\", \"within\", \"action\", \"all\"), #model 3\n",
    "    (\"CNN\", \"within\", \"action\", \"left\"),  # model 4\n",
    "    (\"LSTM-CNN\", \"within\", \"full\", \"all\"),  # model 5\n",
    "    (\"LSTM-CNN\", \"within\", \"full\", \"left\"),  # model 6\n",
    "    (\"LSTM-CNN\", \"within\", \"action\", \"all\"),  # model 7\n",
    "    (\"LSTM-CNN\", \"within\", \"action\", \"left\"),  # model 8\n",
    "    (\"CNN\", \"LOSO\", \"full\", \"all\"),  # model 9\n",
    "    (\"CNN\", \"LOSO\", \"full\", \"left\"),  # model 10\n",
    "    (\"CNN\", \"LOSO\", \"action\", \"all\"),  # model 11\n",
    "    (\"CNN\", \"LOSO\", \"action\", \"left\"),  # model 12\n",
    "    (\"LSTM-CNN\", \"LOSO\", \"full\", \"all\"),  # model 13\n",
    "    (\"LSTM-CNN\", \"LOSO\", \"full\", \"left\"),  # model 14\n",
    "    (\"LSTM-CNN\", \"LOSO\", \"action\", \"all\"),  # model 15\n",
    "    (\"LSTM-CNN\", \"LOSO\", \"action\", \"left\")  # model 16\n",
    "]\n"
   ]
  },
  {
   "cell_type": "code",
   "execution_count": null,
   "id": "9f15e2e1",
   "metadata": {},
   "outputs": [],
   "source": [
    "#import necessary libraries\n",
    "import os\n",
    "import re\n",
    "import pandas as pd\n",
    "import numpy as np\n",
    "import pandas as pd\n",
    "import matplotlib.pyplot as plt\n",
    "from sklearn.metrics import ConfusionMatrixDisplay"
   ]
  },
  {
   "cell_type": "code",
   "execution_count": null,
   "id": "d34a6cd4",
   "metadata": {},
   "outputs": [],
   "source": [
    "subject_rows = []"
   ]
  },
  {
   "cell_type": "code",
   "execution_count": 5,
   "id": "89212690",
   "metadata": {},
   "outputs": [],
   "source": [
    "for model_id, (model_type, procedure, interval, electrodes) in enumerate(model_configs, 1):\n",
    "    filepath = f\"./logs/Results/results_model_{model_id}.txt\"\n",
    "    \n",
    "    with open(filepath, 'r') as f:\n",
    "        lines = f.readlines()\n",
    "    \n",
    "    for line in lines:\n",
    "        subj_match = re.match(r\"Subject (\\d+) final accuracy: ([0-9.]+); precision: ([0-9.]+); recall: ([0-9.]+); F1 score: ([0-9.]+);\", line)\n",
    "        if subj_match:\n",
    "            subject_rows.append({\n",
    "                \"model_id\": model_id,\n",
    "                \"model_type\": model_type,\n",
    "                \"procedure\": procedure,\n",
    "                \"interval\": interval,\n",
    "                \"electrodes\": electrodes,\n",
    "                \"subject\": int(subj_match[1]),\n",
    "                \"accuracy\": float(subj_match[2]),\n",
    "                \"precision\": float(subj_match[3]),\n",
    "                \"recall\": float(subj_match[4]),\n",
    "                \"f1\": float(subj_match[5]),\n",
    "            })\n",
    "\n",
    "# Save to CSV\n",
    "pd.DataFrame(subject_rows).to_csv(\"subject_metrics.csv\", index=False)"
   ]
  },
  {
   "cell_type": "markdown",
   "id": "f30c0ad2",
   "metadata": {},
   "source": [
    "Now the data is stored in subject_metrics.csv and will be used by tests.r and plots.r for collecting statistics and visualizations."
   ]
  },
  {
   "cell_type": "markdown",
   "id": "6dd759fe",
   "metadata": {},
   "source": [
    "### 2. Confusion Matrices analysis\n",
    "Each log file also stores the confusion matrix on the test data for each subject and the overall.\n",
    "Below is some analysis."
   ]
  },
  {
   "cell_type": "code",
   "execution_count": 3,
   "id": "43000102",
   "metadata": {},
   "outputs": [],
   "source": [
    "labels = ['up', 'down', 'right', 'left']"
   ]
  },
  {
   "cell_type": "code",
   "execution_count": 2,
   "id": "31d49837",
   "metadata": {},
   "outputs": [],
   "source": [
    "# Adjust these paths as needed\n",
    "results_dir = \"./logs/Results\"  # folder with result .txt files\n",
    "model_files = [f for f in os.listdir(results_dir) if f.endswith(\".txt\")]"
   ]
  },
  {
   "cell_type": "code",
   "execution_count": 6,
   "id": "60602905",
   "metadata": {},
   "outputs": [],
   "source": [
    "def parse_confusion_matrix(text):\n",
    "    \"\"\"Extract the last 4x4 matrix from text, even if multi-line without commas.\"\"\"\n",
    "    matches = re.findall(r\"\\[\\[(?:.|\\n)*?\\]\\]\", text)\n",
    "    if not matches:\n",
    "        return None\n",
    "    matrix_str = matches[-1]\n",
    "\n",
    "    # Clean and convert to list of lists\n",
    "    lines = matrix_str.strip().replace('[', '').replace(']', '').split('\\n')\n",
    "    matrix = [list(map(int, re.findall(r'\\d+', line))) for line in lines if re.search(r'\\d', line)]\n",
    "\n",
    "    return np.array(matrix)\n"
   ]
  },
  {
   "cell_type": "code",
   "execution_count": 67,
   "id": "6f7c9458",
   "metadata": {},
   "outputs": [
    {
     "data": {
      "text/html": [
       "<div>\n",
       "<style scoped>\n",
       "    .dataframe tbody tr th:only-of-type {\n",
       "        vertical-align: middle;\n",
       "    }\n",
       "\n",
       "    .dataframe tbody tr th {\n",
       "        vertical-align: top;\n",
       "    }\n",
       "\n",
       "    .dataframe thead th {\n",
       "        text-align: right;\n",
       "    }\n",
       "</style>\n",
       "<table border=\"1\" class=\"dataframe\">\n",
       "  <thead>\n",
       "    <tr style=\"text-align: right;\">\n",
       "      <th></th>\n",
       "      <th>model</th>\n",
       "      <th>confusion_matrix</th>\n",
       "      <th>f1_up</th>\n",
       "      <th>f1_down</th>\n",
       "      <th>f1_right</th>\n",
       "      <th>f1_left</th>\n",
       "    </tr>\n",
       "  </thead>\n",
       "  <tbody>\n",
       "    <tr>\n",
       "      <th>0</th>\n",
       "      <td>1</td>\n",
       "      <td>[[136, 140, 151, 132], [122, 156, 146, 135], [...</td>\n",
       "      <td>0.247949</td>\n",
       "      <td>0.276351</td>\n",
       "      <td>0.263205</td>\n",
       "      <td>0.288751</td>\n",
       "    </tr>\n",
       "    <tr>\n",
       "      <th>1</th>\n",
       "      <td>2</td>\n",
       "      <td>[[154, 121, 134, 150], [141, 160, 135, 123], [...</td>\n",
       "      <td>0.268059</td>\n",
       "      <td>0.285970</td>\n",
       "      <td>0.259430</td>\n",
       "      <td>0.282901</td>\n",
       "    </tr>\n",
       "    <tr>\n",
       "      <th>2</th>\n",
       "      <td>3</td>\n",
       "      <td>[[114, 142, 142, 161], [138, 140, 151, 130], [...</td>\n",
       "      <td>0.207840</td>\n",
       "      <td>0.252936</td>\n",
       "      <td>0.247069</td>\n",
       "      <td>0.288179</td>\n",
       "    </tr>\n",
       "    <tr>\n",
       "      <th>3</th>\n",
       "      <td>4</td>\n",
       "      <td>[[143, 136, 148, 132], [135, 145, 127, 152], [...</td>\n",
       "      <td>0.251982</td>\n",
       "      <td>0.263158</td>\n",
       "      <td>0.282648</td>\n",
       "      <td>0.282901</td>\n",
       "    </tr>\n",
       "    <tr>\n",
       "      <th>4</th>\n",
       "      <td>5</td>\n",
       "      <td>[[141, 130, 137, 151], [126, 162, 133, 138], [...</td>\n",
       "      <td>0.255898</td>\n",
       "      <td>0.282476</td>\n",
       "      <td>0.239411</td>\n",
       "      <td>0.263852</td>\n",
       "    </tr>\n",
       "  </tbody>\n",
       "</table>\n",
       "</div>"
      ],
      "text/plain": [
       "   model                                   confusion_matrix     f1_up  \\\n",
       "0      1  [[136, 140, 151, 132], [122, 156, 146, 135], [...  0.247949   \n",
       "1      2  [[154, 121, 134, 150], [141, 160, 135, 123], [...  0.268059   \n",
       "2      3  [[114, 142, 142, 161], [138, 140, 151, 130], [...  0.207840   \n",
       "3      4  [[143, 136, 148, 132], [135, 145, 127, 152], [...  0.251982   \n",
       "4      5  [[141, 130, 137, 151], [126, 162, 133, 138], [...  0.255898   \n",
       "\n",
       "    f1_down  f1_right   f1_left  \n",
       "0  0.276351  0.263205  0.288751  \n",
       "1  0.285970  0.259430  0.282901  \n",
       "2  0.252936  0.247069  0.288179  \n",
       "3  0.263158  0.282648  0.282901  \n",
       "4  0.282476  0.239411  0.263852  "
      ]
     },
     "execution_count": 67,
     "metadata": {},
     "output_type": "execute_result"
    }
   ],
   "source": [
    "all_metrics = []\n",
    "\n",
    "for file in model_files:\n",
    "    with open(os.path.join(results_dir, file), 'r') as f:\n",
    "        content = f.read()\n",
    "\n",
    "    cm = parse_confusion_matrix(content)\n",
    "    if cm is None or cm.shape != (4, 4):\n",
    "        print(f\"Skipping {file}: no valid 4x4 confusion matrix found.\")\n",
    "        continue\n",
    "\n",
    "    # Compute recall and precision per class\n",
    "    recall = np.diag(cm) / cm.sum(axis=1)\n",
    "    precision = np.diag(cm) / cm.sum(axis=0)\n",
    "    f1 = 2 * ((precision * recall)/(precision + recall))\n",
    "\n",
    "    model_id = int(file.replace(\"results_model_\", \"\").replace(\".txt\", \"\"))\n",
    "    metrics = {\n",
    "        \"model\": model_id,\n",
    "        \"confusion_matrix\": cm\n",
    "    }\n",
    "    for i, label in enumerate([\"up\", \"down\", \"right\", \"left\"]):\n",
    "        #metrics[f\"recall_{label}\"] = recall[i]\n",
    "        #metrics[f\"precision_{label}\"] = precision[i]\n",
    "        metrics[f\"f1_{label}\"] = f1[i]\n",
    "\n",
    "    all_metrics.append(metrics)\n",
    "\n",
    "# Convert to DataFrame for analysis/export\n",
    "metrics_df = pd.DataFrame(all_metrics)\n",
    "metrics_df = metrics_df.sort_values(\"model\").reset_index(drop=True)\n",
    "metrics_df.head(5)"
   ]
  },
  {
   "cell_type": "code",
   "execution_count": 25,
   "id": "2b4808a7",
   "metadata": {},
   "outputs": [
    {
     "name": "stdout",
     "output_type": "stream",
     "text": [
      "f1_up       0.252715\n",
      "f1_down     0.268743\n",
      "f1_right    0.255033\n",
      "f1_left     0.278277\n",
      "dtype: float64\n"
     ]
    }
   ],
   "source": [
    "summary = metrics_df.iloc[:, 2:].mean()\n",
    "print(summary)"
   ]
  },
  {
   "cell_type": "code",
   "execution_count": null,
   "id": "3657a3cd",
   "metadata": {},
   "outputs": [],
   "source": [
    "cm = metrics_df.loc[metrics_df[\"model\"] == 10, \"cm\"].values[0]"
   ]
  },
  {
   "cell_type": "code",
   "execution_count": 65,
   "id": "43fb20cf",
   "metadata": {},
   "outputs": [
    {
     "data": {
      "text/plain": [
       "<Figure size 600x500 with 0 Axes>"
      ]
     },
     "metadata": {},
     "output_type": "display_data"
    },
    {
     "data": {
      "image/png": "[encoded data removed]",
      "text/plain": [
       "<Figure size 640x480 with 2 Axes>"
      ]
     },
     "metadata": {},
     "output_type": "display_data"
    }
   ],
   "source": [
    "# Class labels\n",
    "labels = [\"up\", \"down\", \"right\", \"left\"]\n",
    "\n",
    "# Create the heatmap\n",
    "plt.figure(figsize=(6, 5))\n",
    "disp = ConfusionMatrixDisplay(confusion_matrix=cm, display_labels=labels)\n",
    "disp.plot(cmap=plt.cm.Blues)\n",
    "plt.title(f\"Confusion Matrix Model 10\")\n",
    "plt.xlabel(\"Predicted\")\n",
    "plt.ylabel(\"True\")\n",
    "plt.tight_layout()\n",
    "plt.show()"
   ]
  }
 ],
 "metadata": {
  "kernelspec": {
   "display_name": "Python 3",
   "language": "python",
   "name": "python3"
  },
  "language_info": {
   "codemirror_mode": {
    "name": "ipython",
    "version": 3
   },
   "file_extension": ".py",
   "mimetype": "text/x-python",
   "name": "python",
   "nbconvert_exporter": "python",
   "pygments_lexer": "ipython3",
   "version": "3.11.0"
  }
 },
 "nbformat": 4,
 "nbformat_minor": 5
}
